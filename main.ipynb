{
 "cells": [
  {
   "cell_type": "markdown",
   "metadata": {},
   "source": [
    "# A look at ext4\n",
    "\n",
    "In this Jupyter notebook I want to give an interactive \"hello world\" walkthrough of how data is organized within ext4, hoping that in the process I will also find out a bit about how it works.\n",
    "\n",
    "**NOTE**: this notebook attempts to mount the created filesystem, which will require either root privileges or passwordless sudo. You might want to run `sudo true` in your terminal and restart Jupyter before running this.\n",
    "\n",
    "## Creating up the filesystem\n",
    "\n",
    "One can create an ext4 filesystem on a file (which can also be a block device, such as hard drive) using `mkfs.ext4` command. Let's create such device and take a look at what's there:"
   ]
  },
  {
   "cell_type": "code",
   "execution_count": null,
   "metadata": {},
   "outputs": [],
   "source": [
    "from subprocess import check_output, STDOUT, CalledProcessError\n",
    "C = lambda *a, **kw: print(check_output(*a, **kw, stderr=STDOUT, shell=True).decode('ascii').rstrip())\n",
    "C(\"dd if=/dev/zero bs=1024 count=128 of=fs.img && mkfs.ext4 fs.img\")"
   ]
  },
  {
   "cell_type": "markdown",
   "metadata": {},
   "source": [
    "As we can see from `mkfs.ext4`'s output, we now have a file that once contained 131072 zeros and now has an ext4 layout initialized there. It's probably worth noting that we got a warning that the filesystem is `too small for a journal`, which means tha at least one of the features was disabled. Assuming that fs.img is already a valid filesystem, I won't bother to figure out what difference lack of journal makes - at least not for now. It also appears that we have room for 16 inodes, so I would guess I can't put more than 16 files in there. Before we try to mount the filesystem, let's take a brief look at the hexdump of the file (`*` means \"row repeated\"):"
   ]
  },
  {
   "cell_type": "code",
   "execution_count": null,
   "metadata": {},
   "outputs": [],
   "source": [
    "from IPython.core.display import display, HTML\n",
    "from subprocess import check_output\n",
    "hexdump_output = check_output('hexdump -C fs.img', shell=True).decode('ascii')\n",
    "hexdump_output = hexdump_output.replace(' 00', '<span style=\"color: red\"> 00</span>')\n",
    "display(HTML('<pre>%s</pre>' % hexdump_output))"
   ]
  },
  {
   "cell_type": "markdown",
   "metadata": {},
   "source": [
    "It appears that we're looking mostly looking at `\\x00` and `\\xFF`'s, let's verify that:"
   ]
  },
  {
   "cell_type": "code",
   "execution_count": null,
   "metadata": {},
   "outputs": [],
   "source": [
    "import zlib\n",
    "def see_file_size(fname):\n",
    "    with open(fname, 'rb') as f:\n",
    "        fs_img = f.read()\n",
    "    b0x00_cnt = fs_img.count(b'\\x00')\n",
    "    b0xff_cnt = fs_img.count(b'\\xff')\n",
    "    other_count = len(fs_img) - b0x00_cnt - b0xff_cnt\n",
    "    print(\"00=%d, ff=%d, other=%d\" % (b0x00_cnt, b0xff_cnt, other_count))\n",
    "    print(\"The file would compress with zlib to %dB.\" % len(zlib.compress(fs_img)))\n",
    "see_file_size('fs.img')"
   ]
  },
  {
   "cell_type": "markdown",
   "metadata": {},
   "source": [
    "About 600 bytes of actual data... looks like it's not that much to figure out at this point, hopefully! Now let's mount it to verify if it's valid and actually contains anything. We'll also need to back it up before if we want to see if just mounting it changed the contents."
   ]
  },
  {
   "cell_type": "code",
   "execution_count": null,
   "metadata": {},
   "outputs": [],
   "source": [
    "from subprocess import check_output, STDOUT, CalledProcessError\n",
    "C = lambda *a, **kw: print(check_output(*a, **kw, stderr=STDOUT, shell=True).decode('ascii'), end='')\n",
    "try:\n",
    "    should_raise = False\n",
    "    C('SUDO_ASKPASS=/bin/false sudo -A true')\n",
    "except CalledProcessError:\n",
    "    should_raise = True  # otherwise we would get a long stack trace\n",
    "if should_raise:\n",
    "    raise RuntimeError(\"This will not work without passwordless sudo.\")\n",
    "\n",
    "C('cp fs.img fs_empty.img')\n",
    "C('mkdir -p out && sudo mount fs.img out')\n",
    "C('ls -lra out')\n",
    "C('sudo umount out')"
   ]
  },
  {
   "cell_type": "markdown",
   "metadata": {},
   "source": [
    "Looks like we've only found `lost+found` directory, which was the only thing we could find by looking at the binary file. Now, has the file changed after mounting?"
   ]
  },
  {
   "cell_type": "code",
   "execution_count": null,
   "metadata": {},
   "outputs": [],
   "source": [
    "! bash -c 'diff -u <( hexdump -C fs.img ) <( hexdump -C fs_empty.img ) > after_mounting.diff'\n",
    "\n",
    "from IPython.core.display import display, HTML\n",
    "from pygments import highlight\n",
    "from pygments.lexers import DiffLexer\n",
    "from pygments.formatters import HtmlFormatter\n",
    "\n",
    "display(HTML('<style>%s</style>' % HtmlFormatter().get_style_defs('.highlight')))\n",
    "with open('after_mounting.diff') as f:\n",
    "    highlighted = highlight(f.read(), DiffLexer(), HtmlFormatter())\n",
    "    display(HTML(highlighted))"
   ]
  },
  {
   "cell_type": "markdown",
   "metadata": {},
   "source": [
    "It looks like we observed at least three changes, which is something I will probably explore later. While looking for a description of ext4 header, I found a note about `dumpe2fs`, which gives interesting output:"
   ]
  },
  {
   "cell_type": "code",
   "execution_count": null,
   "metadata": {},
   "outputs": [],
   "source": [
    "! dumpe2fs fs.img"
   ]
  },
  {
   "cell_type": "markdown",
   "metadata": {},
   "source": [
    "This is confusing to me - it says that superblock is at block \\#1 and block size is 1024, so unless I'm getting anything wrong, it should be a bunch of zeros... unless it's zero-indexed?"
   ]
  },
  {
   "cell_type": "code",
   "execution_count": null,
   "metadata": {},
   "outputs": [],
   "source": [
    "! dd if=fs.img bs=1024 count=1 | hexdump -C\n",
    "! echo \">>>>>>TRYING SECOND BLOCK\"\n",
    "! dd if=fs.img bs=1024 count=1 skip=1 | hexdump -C"
   ]
  },
  {
   "cell_type": "markdown",
   "metadata": {},
   "source": [
    "Yes, the second entry looks more promising. While trying to interpret it I came across [this kernel.org wiki entry](https://ext4.wiki.kernel.org/index.php/Ext4_Disk_Layout) and decided to write some code to try to extract some data based on their description:"
   ]
  },
  {
   "cell_type": "code",
   "execution_count": null,
   "metadata": {},
   "outputs": [],
   "source": [
    "import requests\n",
    "from lxml import html\n",
    "\n",
    "# Visit the website, fetch its HTML and parse it\n",
    "t = html.fromstring(requests.get('https://ext4.wiki.kernel.org/index.php/Ext4_Disk_Layout').text)"
   ]
  },
  {
   "cell_type": "code",
   "execution_count": null,
   "metadata": {},
   "outputs": [],
   "source": [
    "import struct\n",
    "from collections import OrderedDict\n",
    "\n",
    "field_sizes = {'__le16': 2, '__le32': 4, '__le64': 8, '__u8': 1, '__u32': 4, 'char': 1}\n",
    "field_types = {'__le16': 'H', '__le32': 'I', '__le64': 'Q', '__u8': 'B', '__u32': 'I'}\n",
    "\n",
    "\n",
    "def parse_ext4_description_at_offset_f(f, section_id):\n",
    "    \n",
    "    ret = OrderedDict()\n",
    "        \n",
    "    started = f.tell()\n",
    "\n",
    "    # Find \"The Super Block\" table, iterate over every row other than the first...\n",
    "    table_xpath = '//h1/span [@id=\"%s\"]/..//following::table[1]/tr' % section_id\n",
    "    for row in t.xpath(table_xpath)[1:]:\n",
    "        if len(row) != 4:\n",
    "            continue\n",
    "\n",
    "        row_texts = [td.text_content().strip() for td in row]\n",
    "        offset, field_type, field_name, description = row_texts\n",
    "        offset = int(offset, 16)\n",
    "        \n",
    "        if 'bytes' in field_type:\n",
    "            # This is here because \"Inode table\" has nested types inside\n",
    "            # and I just want to show them raw\n",
    "            field_cnt = int(field_type.split(' ')[0])\n",
    "            field_type = 'char'\n",
    "        elif '[' not in field_name:\n",
    "            field_cnt = 1\n",
    "        else:\n",
    "            field_cnt = int(field_name.split('[')[1].split(']')[0])\n",
    "\n",
    "        field_size = field_sizes[field_type] * field_cnt\n",
    "\n",
    "        f.seek(started + offset)\n",
    "        field_value = f.read(field_size)\n",
    "\n",
    "        if field_type == '__u8' and field_size > 1:\n",
    "            field_type = 'char'\n",
    "\n",
    "        if field_type == 'char':\n",
    "            try:\n",
    "                field_value = field_value.decode('ascii')\n",
    "            except UnicodeDecodeError:\n",
    "                pass\n",
    "        else:\n",
    "            field_format = '<' + field_types[field_type] * field_cnt\n",
    "            field_value = struct.unpack(field_format, field_value)\n",
    "            \n",
    "        ret[field_name] = field_value\n",
    "    return ret\n",
    "\n",
    "def parse_ext4_description_at_offset(skip, section_id):\n",
    "    with open('fs.img', 'rb') as f:\n",
    "        f.seek(skip)\n",
    "        return parse_ext4_description_at_offset_f(f, section_id)\n",
    "\n",
    "parse_ext4_description_at_offset(1024, 'The_Super_Block')"
   ]
  },
  {
   "cell_type": "markdown",
   "metadata": {},
   "source": [
    "Yay! Looks like we managed to parse something! I still have no idea how to find the first inode though. How about we cheat a bit and interpret `dumpe2fs`'s `First inode: 11` as a hint that we should be looking at 12th block?"
   ]
  },
  {
   "cell_type": "code",
   "execution_count": null,
   "metadata": {},
   "outputs": [],
   "source": [
    "(\n",
    "    parse_ext4_description_at_offset(1024 * 12, 'Inode_Table') ==\n",
    "    parse_ext4_description_at_offset(1024 * 11, 'Inode_Table') == \n",
    "    parse_ext4_description_at_offset(1024 * 10, 'Inode_Table') ==\n",
    "    parse_ext4_description_at_offset(1024 * 9, 'Inode_Table')\n",
    ")"
   ]
  },
  {
   "cell_type": "markdown",
   "metadata": {},
   "source": [
    "Either we have four copies of first inode or - what's much more likely - we're out of luck with this trick. Sadly, it looks like I'll have to read the spec (which is boring) or find another way. I first came across https://github.com/skeledrew/ext4-raw-reader, but it was some ugly Python 2 code and then tried https://github.com/tegrak/Fricando/tree/master/ext4img-parser which didn't seem to get me anywhere either. Then I decided to switch to my second favourite language, which is Rust (and which I'm less fluent at) and after a bit of hacking I managed to run tests for [https://github.com/FauxFaux/ext4-rs](ext4-rs) based on this empty filesystem. Here's the proof:\n",
    "\n",
    "```\n",
    "<2> all-types-tiny.img: Directory([DirEntry { inode: 2, file_type: Directory, name: \".\" }, DirEntry { inode: 2, file_type: Directory, name: \"..\" }, DirEntry { inode: 11, file_type: Directory, name: \"lost+found\" }]) Stat { extracted_type: Directory, file_mode: 493, uid: 0, gid: 0, size: 1024, atime: Time { epoch_secs: 1527420384, nanos: None }, ctime: Time { epoch_secs: 1527420384, nanos: None }, mtime: Time { epoch_secs: 1527420384, nanos: None }, btime: None, link_count: 3, xattrs: {} }\n",
    "<11> all-types-tiny.img/lost+found: Directory([DirEntry { inode: 11, file_type: Directory, name: \".\" }, DirEntry { inode: 2, file_type: Directory, name: \"..\" }]) Stat { extracted_type: Directory, file_mode: 448, uid: 0, gid: 0, size: 12288, atime: Time { epoch_secs: 1527420384, nanos: None }, ctime: Time { epoch_secs: 1527420384, nanos: None }, mtime: Time { epoch_secs: 1527420384, nanos: None }, btime: None, link_count: 2, xattrs: {} }\n",
    "```\n",
    "\n",
    "I took a leap of faith and decided to read its code. I found that in order to get to an inode, I probably need to parse block group data which is in the next 1024 bytes, so let's see if `parse_ext4_description_at_offset` will get me anywhere:"
   ]
  },
  {
   "cell_type": "code",
   "execution_count": null,
   "metadata": {},
   "outputs": [],
   "source": [
    "from pprint import pprint\n",
    "sblk = parse_ext4_description_at_offset(1024, 'The_Super_Block')\n",
    "blocks_count = 1  # TODO: got this from ext4-rs, was nontrivial to calculate\n",
    "groups = []\n",
    "with open('fs.img', 'rb') as f:\n",
    "        f.seek(2048)\n",
    "        for i in range(blocks_count):\n",
    "            group = parse_ext4_description_at_offset_f(f, 'Block_Group_Descriptors')\n",
    "            groups.append(group)\n",
    "            pprint(group)"
   ]
  },
  {
   "cell_type": "markdown",
   "metadata": {},
   "source": [
    "It seems that we should be looking for the inode at block 35. Let's try:"
   ]
  },
  {
   "cell_type": "code",
   "execution_count": null,
   "metadata": {},
   "outputs": [],
   "source": [
    "offset = 1024 * groups[0]['bg_inode_table_lo'][0]\n",
    "inode_number = sblk['s_first_ino'][0] - 1\n",
    "offset += (inode_number * sblk['s_inode_size'][0])\n",
    "parse_ext4_description_at_offset(offset, 'Inode_Table')"
   ]
  },
  {
   "cell_type": "markdown",
   "metadata": {},
   "source": [
    "Yay! We've got sane `i_mode` (because `oct(16832)` == `'0o40700'`) and it looks like we're on a good way towards actually reading the directory name. We know `i_size_lo = 12288`, but where is it exactly and how to parse it?"
   ]
  }
 ],
 "metadata": {
  "kernelspec": {
   "display_name": "Python 3",
   "language": "python",
   "name": "python3"
  },
  "language_info": {
   "codemirror_mode": {
    "name": "ipython",
    "version": 3
   },
   "file_extension": ".py",
   "mimetype": "text/x-python",
   "name": "python",
   "nbconvert_exporter": "python",
   "pygments_lexer": "ipython3",
   "version": "3.6.5"
  }
 },
 "nbformat": 4,
 "nbformat_minor": 2
}
