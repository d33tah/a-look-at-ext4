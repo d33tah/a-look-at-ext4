{
 "cells": [
  {
   "cell_type": "markdown",
   "metadata": {},
   "source": [
    "# A look at ext4\n",
    "\n",
    "In this Jupyter notebook I want to give an interactive \"hello world\" walkthrough of how data is organized within ext4, hoping that in the process I will also find out a bit about how it works.\n",
    "\n",
    "**NOTE**: this notebook attempts to mount the created filesystem, which will require either root privileges or passwordless sudo. You might want to run `sudo true` in your terminal and restart Jupyter before running this.\n",
    "\n",
    "## Creating up the filesystem\n",
    "\n",
    "One can create an ext4 filesystem on a file (which can also be a block device, such as hard drive) using `mkfs.ext4` command. Let's create such device and take a look at what's there:"
   ]
  },
  {
   "cell_type": "code",
   "execution_count": null,
   "metadata": {},
   "outputs": [],
   "source": [
    "from subprocess import check_output, STDOUT, CalledProcessError\n",
    "C = lambda *a, **kw: print(check_output(*a, **kw, stderr=STDOUT, shell=True).decode('ascii'))\n",
    "C(\"dd if=/dev/zero bs=1024 count=128 of=fs.img && mkfs.ext4 fs.img\")"
   ]
  },
  {
   "cell_type": "markdown",
   "metadata": {},
   "source": [
    "As we can see from `mkfs.ext4`'s output, we now have a file that once contained 131072 zeros and now has an ext4 layout initialized there. It's probably worth noting that we got a warning that the filesystem is `too small for a journal`, which means tha at least one of the features was disabled. Assuming that fs.img is already a valid filesystem, I won't bother to figure out what difference lack of journal makes - at least not for now. It also appears that we have room for 16 inodes, so I would guess I can't put more than 16 files in there. Before we try to mount the filesystem, let's take a brief look at the hexdump of the file (`*` means \"row repeated\"):"
   ]
  },
  {
   "cell_type": "code",
   "execution_count": null,
   "metadata": {},
   "outputs": [],
   "source": [
    "from IPython.core.display import display, HTML\n",
    "from subprocess import check_output\n",
    "hexdump_output = check_output('hexdump -C fs.img', shell=True).decode('ascii')\n",
    "hexdump_output = hexdump_output.replace(' 00', '<span style=\"color: red\"> 00</span>')\n",
    "display(HTML('<pre>%s</pre>' % hexdump_output))"
   ]
  },
  {
   "cell_type": "markdown",
   "metadata": {},
   "source": [
    "It appears that we're looking mostly looking at `\\x00` and `\\xFF`'s, let's verify that:"
   ]
  },
  {
   "cell_type": "code",
   "execution_count": null,
   "metadata": {},
   "outputs": [],
   "source": [
    "import zlib\n",
    "def see_file_size(fname):\n",
    "    with open(fname, 'rb') as f:\n",
    "        fs_img = f.read()\n",
    "    b0x00_cnt = fs_img.count(b'\\x00')\n",
    "    b0xff_cnt = fs_img.count(b'\\xff')\n",
    "    other_count = len(fs_img) - b0x00_cnt - b0xff_cnt\n",
    "    print(\"00=%d, ff=%d, other=%d\" % (b0x00_cnt, b0xff_cnt, other_count))\n",
    "    print(\"The file would compress with zlib to %dB.\" % len(zlib.compress(fs_img)))\n",
    "see_file_size('fs.img')"
   ]
  },
  {
   "cell_type": "markdown",
   "metadata": {},
   "source": [
    "Less than 650 bytes of actual data... looks like it's not that much to figure out at this point, hopefully! Now let's mount it to verify if it's valid and actually contains anything. We'll also need to back it up before if we want to see if just mounting it changed the contents."
   ]
  },
  {
   "cell_type": "code",
   "execution_count": null,
   "metadata": {},
   "outputs": [],
   "source": [
    "from subprocess import check_output, STDOUT, CalledProcessError\n",
    "C = lambda *a, **kw: print(check_output(*a, **kw, stderr=STDOUT, shell=True).decode('ascii'))\n",
    "try:\n",
    "    should_raise = False\n",
    "    C('SUDO_ASKPASS=/bin/false sudo -A true')\n",
    "except CalledProcessError:\n",
    "    should_raise = True  # otherwise we would get a long stack trace\n",
    "if should_raise:\n",
    "    raise RuntimeError(\"This will not work without passwordless sudo.\")\n",
    "\n",
    "C('cp fs.img fs_empty.img')\n",
    "C('mkdir -p out && sudo mount fs.img out')\n",
    "C('ls -lra out')\n",
    "C('sudo umount out')"
   ]
  },
  {
   "cell_type": "code",
   "execution_count": null,
   "metadata": {},
   "outputs": [],
   "source": [
    "! bash -c 'diff -u <( hexdump -C fs.img ) <( hexdump -C fs_empty.img ) > after_mounting.diff'\n",
    "\n",
    "from pygments import highlight\n",
    "from pygments.lexers import DiffLexer\n",
    "from pygments.formatters import HtmlFormatter\n",
    "\n",
    "display(HTML('<style>%s</style>' % HtmlFormatter().get_style_defs('.highlight')))\n",
    "with open('after_mounting.diff') as f:\n",
    "    highlighted = highlight(f.read(), DiffLexer(), HtmlFormatter())\n",
    "    display(HTML(highlighted))"
   ]
  }
 ],
 "metadata": {
  "kernelspec": {
   "display_name": "Python 3",
   "language": "python",
   "name": "python3"
  },
  "language_info": {
   "codemirror_mode": {
    "name": "ipython",
    "version": 3
   },
   "file_extension": ".py",
   "mimetype": "text/x-python",
   "name": "python",
   "nbconvert_exporter": "python",
   "pygments_lexer": "ipython3",
   "version": "3.6.5"
  }
 },
 "nbformat": 4,
 "nbformat_minor": 2
}
