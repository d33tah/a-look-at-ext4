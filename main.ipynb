{
 "cells": [
  {
   "cell_type": "markdown",
   "metadata": {},
   "source": [
    "# A look at ext4\n",
    "\n",
    "In this IPython notebook I want to give an interactive \"hello world\" walkthrough of how data is organized within ext4, hoping that in the process I will also find out a bit about how it works.\n",
    "\n",
    "## Creating up the filesystem\n",
    "\n",
    "One can create an ext4 filesystem on a file (which can also be a block device, such as hard drive) using `mkfs.ext4` command. Let's write some boilerplate code for calling Ubuntu commands, create such device and take a look at what's there:"
   ]
  },
  {
   "cell_type": "code",
   "execution_count": null,
   "metadata": {},
   "outputs": [],
   "source": [
    "from subprocess import Popen, STDOUT\n",
    "C = lambda *a, **kw: print(\n",
    "    check_output(\n",
    "        *a, **kw, stderr=STDOUT, shell=True\n",
    "    ).decode('ascii'))\n",
    "\n",
    "# Let's create an empty file that is 128 kibibytes large, then mkfs.ext4 it:\n",
    "C(\"dd if=/dev/zero bs=1024 count=128 of=fs.img && mkfs.ext4 fs.img\")"
   ]
  },
  {
   "cell_type": "markdown",
   "metadata": {},
   "source": [
    "As we can see, we now have a file that once contained 131072 zeros and now has an ext4 layout initialized there. It's probably worth noting that we got a warning that the filesystem is `too small for a journal`, which means tha at least one of the features was disabled."
   ]
  }
 ],
 "metadata": {
  "kernelspec": {
   "display_name": "Python 3",
   "language": "python",
   "name": "python3"
  },
  "language_info": {
   "codemirror_mode": {
    "name": "ipython",
    "version": 3
   },
   "file_extension": ".py",
   "mimetype": "text/x-python",
   "name": "python",
   "nbconvert_exporter": "python",
   "pygments_lexer": "ipython3",
   "version": "3.6.3"
  }
 },
 "nbformat": 4,
 "nbformat_minor": 2
}
